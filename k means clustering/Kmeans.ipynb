{
  "nbformat": 4,
  "nbformat_minor": 0,
  "metadata": {
    "colab": {
      "name": "Kmeans.ipynb",
      "provenance": [],
      "collapsed_sections": []
    },
    "kernelspec": {
      "name": "python3",
      "display_name": "Python 3"
    }
  },
  "cells": [
    {
      "cell_type": "markdown",
      "metadata": {
        "id": "RPULTCuYh-63",
        "colab_type": "text"
      },
      "source": [
        "### K means Clustering\n",
        "\n",
        "#### Sathvik K P - 1MS17CS143\n",
        "#### Sathvik B - 1MS17CS148\n",
        "\n",
        "##### Import necessary libraries"
      ]
    },
    {
      "cell_type": "code",
      "metadata": {
        "id": "C_8cM4sp_gE3",
        "colab_type": "code",
        "outputId": "f4b1dac6-8474-4272-9e5b-b598e346a680",
        "colab": {
          "base_uri": "https://localhost:8080/",
          "height": 72
        }
      },
      "source": [
        "import numpy as np \n",
        "import pandas as pd \n",
        "import matplotlib.pyplot as plt\n",
        "import seaborn as sns\n",
        "from sklearn.feature_extraction import text\n",
        "from sklearn.feature_extraction.text import TfidfVectorizer\n",
        "from sklearn.cluster import KMeans\n",
        "from nltk.tokenize import RegexpTokenizer\n",
        "from nltk.stem.snowball import SnowballStemmer\n",
        "%matplotlib inline"
      ],
      "execution_count": 1,
      "outputs": [
        {
          "output_type": "stream",
          "text": [
            "/usr/local/lib/python3.6/dist-packages/statsmodels/tools/_testing.py:19: FutureWarning: pandas.util.testing is deprecated. Use the functions in the public API at pandas.testing instead.\n",
            "  import pandas.util.testing as tm\n"
          ],
          "name": "stderr"
        }
      ]
    },
    {
      "cell_type": "markdown",
      "metadata": {
        "id": "GG9WSP4Ppoc2",
        "colab_type": "text"
      },
      "source": [
        "##### Load the dataset"
      ]
    },
    {
      "cell_type": "code",
      "metadata": {
        "id": "mx-83WVa_2ND",
        "colab_type": "code",
        "outputId": "cf36e10a-702f-4477-df9f-2ba8ebeffe19",
        "colab": {
          "base_uri": "https://localhost:8080/",
          "height": 197
        }
      },
      "source": [
        "data = pd.read_csv(\"/content/drive/My Drive/Datasets/abcnews-date-text.csv\",error_bad_lines=False)\n",
        "data.head()"
      ],
      "execution_count": 2,
      "outputs": [
        {
          "output_type": "execute_result",
          "data": {
            "text/html": [
              "<div>\n",
              "<style scoped>\n",
              "    .dataframe tbody tr th:only-of-type {\n",
              "        vertical-align: middle;\n",
              "    }\n",
              "\n",
              "    .dataframe tbody tr th {\n",
              "        vertical-align: top;\n",
              "    }\n",
              "\n",
              "    .dataframe thead th {\n",
              "        text-align: right;\n",
              "    }\n",
              "</style>\n",
              "<table border=\"1\" class=\"dataframe\">\n",
              "  <thead>\n",
              "    <tr style=\"text-align: right;\">\n",
              "      <th></th>\n",
              "      <th>publish_date</th>\n",
              "      <th>headline_text</th>\n",
              "    </tr>\n",
              "  </thead>\n",
              "  <tbody>\n",
              "    <tr>\n",
              "      <th>0</th>\n",
              "      <td>20030219</td>\n",
              "      <td>aba decides against community broadcasting lic...</td>\n",
              "    </tr>\n",
              "    <tr>\n",
              "      <th>1</th>\n",
              "      <td>20030219</td>\n",
              "      <td>act fire witnesses must be aware of defamation</td>\n",
              "    </tr>\n",
              "    <tr>\n",
              "      <th>2</th>\n",
              "      <td>20030219</td>\n",
              "      <td>a g calls for infrastructure protection summit</td>\n",
              "    </tr>\n",
              "    <tr>\n",
              "      <th>3</th>\n",
              "      <td>20030219</td>\n",
              "      <td>air nz staff in aust strike for pay rise</td>\n",
              "    </tr>\n",
              "    <tr>\n",
              "      <th>4</th>\n",
              "      <td>20030219</td>\n",
              "      <td>air nz strike to affect australian travellers</td>\n",
              "    </tr>\n",
              "  </tbody>\n",
              "</table>\n",
              "</div>"
            ],
            "text/plain": [
              "   publish_date                                      headline_text\n",
              "0      20030219  aba decides against community broadcasting lic...\n",
              "1      20030219     act fire witnesses must be aware of defamation\n",
              "2      20030219     a g calls for infrastructure protection summit\n",
              "3      20030219           air nz staff in aust strike for pay rise\n",
              "4      20030219      air nz strike to affect australian travellers"
            ]
          },
          "metadata": {
            "tags": []
          },
          "execution_count": 2
        }
      ]
    },
    {
      "cell_type": "markdown",
      "metadata": {
        "id": "hf1t6fU5pr0g",
        "colab_type": "text"
      },
      "source": [
        "##### Convert publish_date into year, month and day for Exploratory Data Analysis"
      ]
    },
    {
      "cell_type": "code",
      "metadata": {
        "id": "6PYNpckxpFw9",
        "colab_type": "code",
        "colab": {}
      },
      "source": [
        "data['publish_year'] = data['publish_date'].apply(lambda x:int(x/10000))\n",
        "data['publish_month'] = data['publish_date'].apply(lambda x:int(((x)%10000)/100))\n",
        "data['publish_day'] = data['publish_date'].apply(lambda x:((x)%10000)%100)"
      ],
      "execution_count": 0,
      "outputs": []
    },
    {
      "cell_type": "markdown",
      "metadata": {
        "id": "1kWsbOB4p2tb",
        "colab_type": "text"
      },
      "source": [
        "A plot of nummber of news headlines in each year"
      ]
    },
    {
      "cell_type": "code",
      "metadata": {
        "id": "5hYMY592pFay",
        "colab_type": "code",
        "colab": {
          "base_uri": "https://localhost:8080/",
          "height": 294
        },
        "outputId": "9a31f1fa-ae3a-4ed1-dd4d-a8a32b44d5f7"
      },
      "source": [
        "import matplotlib.pyplot as plt\n",
        "plt.hist(data['publish_year'], facecolor='blue', alpha=0.8, rwidth = 0.5)\n",
        "plt.xlabel('Year')\n",
        "plt.ylabel('#News Headlines')\n",
        "plt.title('#News Headlines in each year')\n",
        "plt.show()"
      ],
      "execution_count": 4,
      "outputs": [
        {
          "output_type": "display_data",
          "data": {
            "image/png": "[encoded data removed]",
            "text/plain": [
              "<Figure size 432x288 with 1 Axes>"
            ]
          },
          "metadata": {
            "tags": [],
            "needs_background": "light"
          }
        }
      ]
    },
    {
      "cell_type": "markdown",
      "metadata": {
        "id": "evojuMtdp8Js",
        "colab_type": "text"
      },
      "source": [
        "Number of headlines in each month"
      ]
    },
    {
      "cell_type": "code",
      "metadata": {
        "id": "5x_GDvyXqPzR",
        "colab_type": "code",
        "colab": {
          "base_uri": "https://localhost:8080/",
          "height": 294
        },
        "outputId": "dae01f45-4030-4868-c2a1-0ea2432e2d6a"
      },
      "source": [
        "plt.hist(data['publish_month'],12, facecolor='blue', alpha=0.8, rwidth = 0.5)\n",
        "plt.xlabel('Month')\n",
        "plt.ylabel('#News Headlines')\n",
        "plt.title('#News Headlines in each month')\n",
        "plt.show()"
      ],
      "execution_count": 5,
      "outputs": [
        {
          "output_type": "display_data",
          "data": {
            "image/png": "[encoded data removed]",
            "text/plain": [
              "<Figure size 432x288 with 1 Axes>"
            ]
          },
          "metadata": {
            "tags": [],
            "needs_background": "light"
          }
        }
      ]
    },
    {
      "cell_type": "markdown",
      "metadata": {
        "id": "A4SM95iTqVMZ",
        "colab_type": "text"
      },
      "source": [
        "##### Number of News Headlines on each day of month"
      ]
    },
    {
      "cell_type": "code",
      "metadata": {
        "id": "VnD-D9SFpNFo",
        "colab_type": "code",
        "colab": {
          "base_uri": "https://localhost:8080/",
          "height": 294
        },
        "outputId": "d85c4368-5b71-4f54-a597-86f6369998b4"
      },
      "source": [
        "plt.hist(data['publish_day'],31, facecolor='blue', alpha=0.8, rwidth = 0.5)\n",
        "plt.xlabel('Day')\n",
        "plt.ylabel('#News Headlines')\n",
        "plt.title('#News Headlines on each day of month')\n",
        "plt.show()"
      ],
      "execution_count": 6,
      "outputs": [
        {
          "output_type": "display_data",
          "data": {
            "image/png": "[encoded data removed]",
            "text/plain": [
              "<Figure size 432x288 with 1 Axes>"
            ]
          },
          "metadata": {
            "tags": [],
            "needs_background": "light"
          }
        }
      ]
    },
    {
      "cell_type": "markdown",
      "metadata": {
        "id": "EpSL04aTqcGE",
        "colab_type": "text"
      },
      "source": [
        "##### Sampling the data to 10,000 values (otherwise, there will be very high computation time)"
      ]
    },
    {
      "cell_type": "code",
      "metadata": {
        "id": "7gFqInFsaOXt",
        "colab_type": "code",
        "colab": {}
      },
      "source": [
        "data = data[:10000]"
      ],
      "execution_count": 0,
      "outputs": []
    },
    {
      "cell_type": "code",
      "metadata": {
        "id": "zTjhNMt3qoUK",
        "colab_type": "code",
        "colab": {}
      },
      "source": [
        "data = data[[\"headline_text\"]]"
      ],
      "execution_count": 0,
      "outputs": []
    },
    {
      "cell_type": "code",
      "metadata": {
        "id": "jT9qMrviAsCg",
        "colab_type": "code",
        "outputId": "16172711-8968-499c-ffff-b65ecf04be0f",
        "colab": {
          "base_uri": "https://localhost:8080/",
          "height": 158
        }
      },
      "source": [
        "data.info()"
      ],
      "execution_count": 9,
      "outputs": [
        {
          "output_type": "stream",
          "text": [
            "<class 'pandas.core.frame.DataFrame'>\n",
            "RangeIndex: 10000 entries, 0 to 9999\n",
            "Data columns (total 1 columns):\n",
            " #   Column         Non-Null Count  Dtype \n",
            "---  ------         --------------  ----- \n",
            " 0   headline_text  10000 non-null  object\n",
            "dtypes: object(1)\n",
            "memory usage: 78.2+ KB\n"
          ],
          "name": "stdout"
        }
      ]
    },
    {
      "cell_type": "markdown",
      "metadata": {
        "id": "nEWmh_hWrUX7",
        "colab_type": "text"
      },
      "source": [
        "##### Removing duplicate headlines"
      ]
    },
    {
      "cell_type": "code",
      "metadata": {
        "id": "aZo67JH6Avkm",
        "colab_type": "code",
        "outputId": "c2c3cdfc-e0fb-4d42-afa5-1ea8dc21f022",
        "colab": {
          "base_uri": "https://localhost:8080/",
          "height": 287
        }
      },
      "source": [
        "data[data['headline_text'].duplicated(keep=False)].sort_values('headline_text').head(8)"
      ],
      "execution_count": 10,
      "outputs": [
        {
          "output_type": "execute_result",
          "data": {
            "text/html": [
              "<div>\n",
              "<style scoped>\n",
              "    .dataframe tbody tr th:only-of-type {\n",
              "        vertical-align: middle;\n",
              "    }\n",
              "\n",
              "    .dataframe tbody tr th {\n",
              "        vertical-align: top;\n",
              "    }\n",
              "\n",
              "    .dataframe thead th {\n",
              "        text-align: right;\n",
              "    }\n",
              "</style>\n",
              "<table border=\"1\" class=\"dataframe\">\n",
              "  <thead>\n",
              "    <tr style=\"text-align: right;\">\n",
              "      <th></th>\n",
              "      <th>headline_text</th>\n",
              "    </tr>\n",
              "  </thead>\n",
              "  <tbody>\n",
              "    <tr>\n",
              "      <th>9253</th>\n",
              "      <td>5 australian sars cases being monitored</td>\n",
              "    </tr>\n",
              "    <tr>\n",
              "      <th>9458</th>\n",
              "      <td>5 australian sars cases being monitored</td>\n",
              "    </tr>\n",
              "    <tr>\n",
              "      <th>6402</th>\n",
              "      <td>all walks of life follow protest path</td>\n",
              "    </tr>\n",
              "    <tr>\n",
              "      <th>6192</th>\n",
              "      <td>all walks of life follow protest path</td>\n",
              "    </tr>\n",
              "    <tr>\n",
              "      <th>6197</th>\n",
              "      <td>asio briefs crean on terrorist risk</td>\n",
              "    </tr>\n",
              "    <tr>\n",
              "      <th>6409</th>\n",
              "      <td>asio briefs crean on terrorist risk</td>\n",
              "    </tr>\n",
              "    <tr>\n",
              "      <th>6609</th>\n",
              "      <td>australia celebrates world cup victory</td>\n",
              "    </tr>\n",
              "    <tr>\n",
              "      <th>6813</th>\n",
              "      <td>australia celebrates world cup victory</td>\n",
              "    </tr>\n",
              "  </tbody>\n",
              "</table>\n",
              "</div>"
            ],
            "text/plain": [
              "                                headline_text\n",
              "9253  5 australian sars cases being monitored\n",
              "9458  5 australian sars cases being monitored\n",
              "6402    all walks of life follow protest path\n",
              "6192    all walks of life follow protest path\n",
              "6197      asio briefs crean on terrorist risk\n",
              "6409      asio briefs crean on terrorist risk\n",
              "6609   australia celebrates world cup victory\n",
              "6813   australia celebrates world cup victory"
            ]
          },
          "metadata": {
            "tags": []
          },
          "execution_count": 10
        }
      ]
    },
    {
      "cell_type": "code",
      "metadata": {
        "id": "EObX49XIAyXH",
        "colab_type": "code",
        "colab": {}
      },
      "source": [
        "data = data.drop_duplicates('headline_text')"
      ],
      "execution_count": 0,
      "outputs": []
    },
    {
      "cell_type": "markdown",
      "metadata": {
        "id": "XwQ6dY-PrX_h",
        "colab_type": "text"
      },
      "source": [
        "##### TF-IDF and vectorization"
      ]
    },
    {
      "cell_type": "code",
      "metadata": {
        "id": "8DS9TEVxA0uJ",
        "colab_type": "code",
        "colab": {}
      },
      "source": [
        "punc = ['.', ',', '\"', \"'\", '?', '!', ':', ';', '(', ')', '[', ']', '{', '}',\"%\"]\n",
        "stop_words = text.ENGLISH_STOP_WORDS.union(punc)\n",
        "desc = data['headline_text'].values\n",
        "vectorizer = TfidfVectorizer(stop_words = stop_words)\n",
        "X = vectorizer.fit_transform(desc)"
      ],
      "execution_count": 0,
      "outputs": []
    },
    {
      "cell_type": "code",
      "metadata": {
        "id": "nr3-rdmSA2tf",
        "colab_type": "code",
        "outputId": "99ab89ce-3328-4f2a-c06f-54e71ff0360c",
        "colab": {
          "base_uri": "https://localhost:8080/",
          "height": 34
        }
      },
      "source": [
        "word_features = vectorizer.get_feature_names()\n",
        "print(len(word_features))"
      ],
      "execution_count": 13,
      "outputs": [
        {
          "output_type": "stream",
          "text": [
            "9820\n"
          ],
          "name": "stdout"
        }
      ]
    },
    {
      "cell_type": "markdown",
      "metadata": {
        "id": "oZ9LWkIorkwU",
        "colab_type": "text"
      },
      "source": [
        "##### Performing stemming"
      ]
    },
    {
      "cell_type": "code",
      "metadata": {
        "id": "CjhjmW5OA5X4",
        "colab_type": "code",
        "colab": {}
      },
      "source": [
        "stemmer = SnowballStemmer('english')\n",
        "tokenizer = RegexpTokenizer(r'[a-zA-Z\\']+')\n",
        "\n",
        "def tokenize(text):\n",
        "    return [stemmer.stem(word) for word in tokenizer.tokenize(text.lower())]"
      ],
      "execution_count": 0,
      "outputs": []
    },
    {
      "cell_type": "code",
      "metadata": {
        "id": "jejLEokXA7Vp",
        "colab_type": "code",
        "outputId": "a3a8dd88-b982-4f55-dd08-022ff9de3c00",
        "colab": {
          "base_uri": "https://localhost:8080/",
          "height": 90
        }
      },
      "source": [
        "vectorizer2 = TfidfVectorizer(stop_words = stop_words, tokenizer = tokenize)\n",
        "X2 = vectorizer2.fit_transform(desc)\n",
        "word_features2 = vectorizer2.get_feature_names()\n",
        "print(len(word_features2))"
      ],
      "execution_count": 15,
      "outputs": [
        {
          "output_type": "stream",
          "text": [
            "/usr/local/lib/python3.6/dist-packages/sklearn/feature_extraction/text.py:385: UserWarning: Your stop_words may be inconsistent with your preprocessing. Tokenizing the stop words generated tokens ['abov', 'afterward', 'alon', 'alreadi', 'alway', 'ani', 'anoth', 'anyon', 'anyth', 'anywher', 'becam', 'becaus', 'becom', 'befor', 'besid', 'cri', 'describ', 'dure', 'els', 'elsewher', 'empti', 'everi', 'everyon', 'everyth', 'everywher', 'fifti', 'forti', 'henc', 'hereaft', 'herebi', 'howev', 'hundr', 'inde', 'mani', 'meanwhil', 'moreov', 'nobodi', 'noon', 'noth', 'nowher', 'onc', 'onli', 'otherwis', 'ourselv', 'perhap', 'pleas', 'sever', 'sinc', 'sincer', 'sixti', 'someon', 'someth', 'sometim', 'somewher', 'themselv', 'thenc', 'thereaft', 'therebi', 'therefor', 'togeth', 'twelv', 'twenti', 'veri', 'whatev', 'whenc', 'whenev', 'wherea', 'whereaft', 'wherebi', 'wherev', 'whi', 'yourselv'] not in stop_words.\n",
            "  'stop_words.' % sorted(inconsistent))\n"
          ],
          "name": "stderr"
        },
        {
          "output_type": "stream",
          "text": [
            "6909\n"
          ],
          "name": "stdout"
        }
      ]
    },
    {
      "cell_type": "code",
      "metadata": {
        "id": "q-IWDabzA9bB",
        "colab_type": "code",
        "outputId": "44295dac-62d2-4577-c11a-b173687f8d8a",
        "colab": {
          "base_uri": "https://localhost:8080/",
          "height": 72
        }
      },
      "source": [
        "vectorizer3 = TfidfVectorizer(stop_words = stop_words, tokenizer = tokenize, max_features = 100)\n",
        "X3 = vectorizer3.fit_transform(desc)\n",
        "words = vectorizer3.get_feature_names()"
      ],
      "execution_count": 16,
      "outputs": [
        {
          "output_type": "stream",
          "text": [
            "/usr/local/lib/python3.6/dist-packages/sklearn/feature_extraction/text.py:385: UserWarning: Your stop_words may be inconsistent with your preprocessing. Tokenizing the stop words generated tokens ['abov', 'afterward', 'alon', 'alreadi', 'alway', 'ani', 'anoth', 'anyon', 'anyth', 'anywher', 'becam', 'becaus', 'becom', 'befor', 'besid', 'cri', 'describ', 'dure', 'els', 'elsewher', 'empti', 'everi', 'everyon', 'everyth', 'everywher', 'fifti', 'forti', 'henc', 'hereaft', 'herebi', 'howev', 'hundr', 'inde', 'mani', 'meanwhil', 'moreov', 'nobodi', 'noon', 'noth', 'nowher', 'onc', 'onli', 'otherwis', 'ourselv', 'perhap', 'pleas', 'sever', 'sinc', 'sincer', 'sixti', 'someon', 'someth', 'sometim', 'somewher', 'themselv', 'thenc', 'thereaft', 'therebi', 'therefor', 'togeth', 'twelv', 'twenti', 'veri', 'whatev', 'whenc', 'whenev', 'wherea', 'whereaft', 'wherebi', 'wherev', 'whi', 'yourselv'] not in stop_words.\n",
            "  'stop_words.' % sorted(inconsistent))\n"
          ],
          "name": "stderr"
        }
      ]
    },
    {
      "cell_type": "code",
      "metadata": {
        "id": "kBo5d5vcbEBN",
        "colab_type": "code",
        "colab": {
          "base_uri": "https://localhost:8080/",
          "height": 52
        },
        "outputId": "9a5818ab-4669-4325-c03e-1dc3dd243863"
      },
      "source": [
        "X3"
      ],
      "execution_count": 17,
      "outputs": [
        {
          "output_type": "execute_result",
          "data": {
            "text/plain": [
              "<9967x100 sparse matrix of type '<class 'numpy.float64'>'\n",
              "\twith 11385 stored elements in Compressed Sparse Row format>"
            ]
          },
          "metadata": {
            "tags": []
          },
          "execution_count": 17
        }
      ]
    },
    {
      "cell_type": "markdown",
      "metadata": {
        "id": "GtxCMulKsJ-_",
        "colab_type": "text"
      },
      "source": [
        "##### Elbow method to select number of clusters"
      ]
    },
    {
      "cell_type": "code",
      "metadata": {
        "id": "9tu15UnnkAza",
        "colab_type": "code",
        "colab": {
          "base_uri": "https://localhost:8080/",
          "height": 294
        },
        "outputId": "171bb85b-6074-4eec-8598-ede6e1bcbd7f"
      },
      "source": [
        "from sklearn.cluster import KMeans\n",
        "wcss = []\n",
        "for i in range(1,11):\n",
        "    kmeans = KMeans(n_clusters=i,init='k-means++',max_iter=300,n_init=10,random_state=0)\n",
        "    kmeans.fit(X3)\n",
        "    wcss.append(kmeans.inertia_)\n",
        "plt.plot(range(1,11),wcss)\n",
        "plt.title('The Elbow Method')\n",
        "plt.xlabel('Number of clusters')\n",
        "plt.ylabel('WCSS')\n",
        "plt.savefig('elbow.png')\n",
        "plt.show()"
      ],
      "execution_count": 18,
      "outputs": [
        {
          "output_type": "display_data",
          "data": {
            "image/png": "[encoded data removed]",
            "text/plain": [
              "<Figure size 432x288 with 1 Axes>"
            ]
          },
          "metadata": {
            "tags": [],
            "needs_background": "light"
          }
        }
      ]
    },
    {
      "cell_type": "markdown",
      "metadata": {
        "id": "98h7CXDRsObp",
        "colab_type": "text"
      },
      "source": [
        "##### Number of clusters =3"
      ]
    },
    {
      "cell_type": "code",
      "metadata": {
        "id": "ssThzva9BA1-",
        "colab_type": "code",
        "outputId": "1077be8d-f150-4f32-9fa9-e312d3f7a6ab",
        "colab": {
          "base_uri": "https://localhost:8080/",
          "height": 70
        }
      },
      "source": [
        "kmeans = KMeans(n_clusters = 3, n_init = 20, n_jobs = 1) # n_init(number of iterations for clsutering) n_jobs(number of cpu cores to use)\n",
        "kmeans.fit(X3)\n",
        "# We look at 3 the clusters generated by k-means.\n",
        "common_words = kmeans.cluster_centers_.argsort()[:,-1:-26:-1]\n",
        "for num, centroid in enumerate(common_words):\n",
        "    print(str(num) + ' : ' + ', '.join(words[word] for word in centroid))"
      ],
      "execution_count": 19,
      "outputs": [
        {
          "output_type": "stream",
          "text": [
            "0 : war, govt, man, council, charg, world, face, court, protest, anti, cup, murder, polic, vic, plan, urg, nsw, say, claim, fund, qld, consid, death, howard, miss\n",
            "1 : polic, new, plan, win, iraqi, say, claim, warn, kill, report, baghdad, water, nsw, urg, death, fund, crash, lead, continu, hope, set, rain, troop, forc, open\n",
            "2 : iraq, war, say, missil, troop, howard, deni, pm, bomb, report, forc, warn, attack, kill, coalit, aust, baghdad, oil, support, claim, secur, australia, defend, australian, saddam\n"
          ],
          "name": "stdout"
        }
      ]
    },
    {
      "cell_type": "markdown",
      "metadata": {
        "id": "2XIrZDCVsR5H",
        "colab_type": "text"
      },
      "source": [
        "##### Silhouette score lies between 1 and -1, with 1 being the best and -1 being the worst"
      ]
    },
    {
      "cell_type": "code",
      "metadata": {
        "id": "wkpMf0jiBC6Z",
        "colab_type": "code",
        "outputId": "1159755c-88d9-4776-dbd6-99908a413ad9",
        "colab": {
          "base_uri": "https://localhost:8080/",
          "height": 34
        }
      },
      "source": [
        "from sklearn.metrics import silhouette_score\n",
        "print(silhouette_score(X3, labels=kmeans.predict(X3)))"
      ],
      "execution_count": 20,
      "outputs": [
        {
          "output_type": "stream",
          "text": [
            "0.1817126543809907\n"
          ],
          "name": "stdout"
        }
      ]
    },
    {
      "cell_type": "markdown",
      "metadata": {
        "id": "-ThXIBggs-PT",
        "colab_type": "text"
      },
      "source": [
        "##### Number of clusters = 5"
      ]
    },
    {
      "cell_type": "code",
      "metadata": {
        "id": "ClZnqzUdtEZ5",
        "colab_type": "code",
        "colab": {
          "base_uri": "https://localhost:8080/",
          "height": 105
        },
        "outputId": "da84af58-14e5-4ea7-88ce-0df98b05e85d"
      },
      "source": [
        "kmeans = KMeans(n_clusters = 5, n_init = 20, n_jobs = 1) # n_init(number of iterations for clsutering) n_jobs(number of cpu cores to use)\n",
        "kmeans.fit(X3)\n",
        "# We look at 3 the clusters generated by k-means.\n",
        "common_words = kmeans.cluster_centers_.argsort()[:,-1:-26:-1]\n",
        "for num, centroid in enumerate(common_words):\n",
        "    print(str(num) + ' : ' + ', '.join(words[word] for word in centroid))"
      ],
      "execution_count": 21,
      "outputs": [
        {
          "output_type": "stream",
          "text": [
            "0 : iraq, war, say, missil, troop, howard, deni, pm, bomb, report, forc, warn, attack, kill, coalit, aust, baghdad, oil, support, claim, secur, australia, defend, australian, saddam\n",
            "1 : polic, probe, man, arrest, investig, death, murder, charg, wa, car, protest, miss, new, crash, vic, seek, help, court, urg, kill, welcom, nsw, secur, face, continu\n",
            "2 : govt, win, man, new, iraqi, say, claim, charg, warn, report, kill, baghdad, world, court, nsw, urg, face, fund, death, water, set, cup, lead, crash, hope\n",
            "3 : plan, council, water, welcom, new, fund, elect, seek, chang, govt, secur, consid, begin, urg, offer, concern, meet, group, qld, claim, green, say, protest, health, air\n",
            "4 : war, anti, protest, howard, pm, iraqi, say, plan, open, oil, end, warn, urg, australia, deni, forc, green, world, begin, govt, union, troop, new, air, continu\n"
          ],
          "name": "stdout"
        }
      ]
    },
    {
      "cell_type": "code",
      "metadata": {
        "id": "jMFPX7-DtEJT",
        "colab_type": "code",
        "colab": {
          "base_uri": "https://localhost:8080/",
          "height": 34
        },
        "outputId": "7c9da4c9-2729-4af4-8495-07549a98fafc"
      },
      "source": [
        "from sklearn.metrics import silhouette_score\n",
        "print(silhouette_score(X3, labels=kmeans.predict(X3)))"
      ],
      "execution_count": 22,
      "outputs": [
        {
          "output_type": "stream",
          "text": [
            "0.20250434732565156\n"
          ],
          "name": "stdout"
        }
      ]
    },
    {
      "cell_type": "markdown",
      "metadata": {
        "id": "26QKhzDjtB9y",
        "colab_type": "text"
      },
      "source": [
        "##### Number of clusters = 6"
      ]
    },
    {
      "cell_type": "code",
      "metadata": {
        "id": "71EUNZTza08m",
        "colab_type": "code",
        "colab": {
          "base_uri": "https://localhost:8080/",
          "height": 123
        },
        "outputId": "420a52a2-b5de-4749-fef8-a5e241473167"
      },
      "source": [
        "kmeans = KMeans(n_clusters = 6, n_init = 20, n_jobs = 1) # n_init(number of iterations for clsutering) n_jobs(number of cpu cores to use)\n",
        "kmeans.fit(X3)\n",
        "# We look at 3 the clusters generated by k-means.\n",
        "common_words = kmeans.cluster_centers_.argsort()[:,-1:-26:-1]\n",
        "for num, centroid in enumerate(common_words):\n",
        "    print(str(num) + ' : ' + ', '.join(words[word] for word in centroid))"
      ],
      "execution_count": 23,
      "outputs": [
        {
          "output_type": "stream",
          "text": [
            "0 : council, secur, elect, plan, fund, seek, welcom, consid, water, chang, urg, offer, claim, meet, iraq, qld, help, concern, new, hope, say, make, begin, continu, boost\n",
            "1 : govt, vic, nsw, urg, fund, wa, qld, claim, consid, say, deni, defend, plan, hospit, report, new, offer, drought, health, help, iraq, boost, support, war, open\n",
            "2 : polic, man, win, new, iraqi, say, charg, claim, warn, kill, report, baghdad, court, world, death, face, nsw, water, crash, urg, set, cup, lead, continu, fund\n",
            "3 : iraq, say, missil, troop, deni, pm, bomb, howard, report, attack, kill, forc, coalit, warn, baghdad, oil, aust, claim, australian, new, ban, support, australia, miss, saddam\n",
            "4 : plan, water, new, protest, welcom, begin, defend, health, group, green, meet, union, world, war, farmer, polic, concern, say, hospit, fund, chang, support, wa, iraqi, air\n",
            "5 : war, anti, iraq, protest, howard, pm, say, iraqi, warn, forc, end, deni, plan, open, oil, australia, green, world, urg, troop, arrest, begin, new, air, continu\n"
          ],
          "name": "stdout"
        }
      ]
    },
    {
      "cell_type": "code",
      "metadata": {
        "id": "xr7q9NjsiO4s",
        "colab_type": "code",
        "colab": {
          "base_uri": "https://localhost:8080/",
          "height": 34
        },
        "outputId": "afb77a17-4db9-4fbb-e8b7-eed6838981fa"
      },
      "source": [
        "from sklearn.metrics import silhouette_score\n",
        "print(silhouette_score(X3, labels=kmeans.predict(X3)))"
      ],
      "execution_count": 24,
      "outputs": [
        {
          "output_type": "stream",
          "text": [
            "0.21016285997105688\n"
          ],
          "name": "stdout"
        }
      ]
    },
    {
      "cell_type": "markdown",
      "metadata": {
        "id": "x85V9iZYtnWT",
        "colab_type": "text"
      },
      "source": [
        "#### As we can see, we get the best results with number of clusters = 6"
      ]
    }
  ]
}