{
  "nbformat": 4,
  "nbformat_minor": 0,
  "metadata": {
    "colab": {
      "name": "Lab6_Genetic.ipynb",
      "provenance": [],
      "collapsed_sections": []
    },
    "kernelspec": {
      "name": "python3",
      "display_name": "Python 3"
    },
    "accelerator": "GPU"
  },
  "cells": [
    {
      "cell_type": "code",
      "metadata": {
        "id": "fFkvaTRrtTur",
        "colab_type": "code",
        "colab": {}
      },
      "source": [
        "import numpy as np\n",
        "from numpy.random import randint\n",
        "from random import random as rnd\n",
        "from random import gauss, randrange"
      ],
      "execution_count": 0,
      "outputs": []
    },
    {
      "cell_type": "code",
      "metadata": {
        "id": "-nr_uQpgwfp3",
        "colab_type": "code",
        "outputId": "82513b29-62be-478d-f01b-d60d62cdb9e1",
        "colab": {
          "base_uri": "https://localhost:8080/",
          "height": 122
        }
      },
      "source": [
        "from google.colab import drive\n",
        "drive.mount('/content/drive')"
      ],
      "execution_count": 2,
      "outputs": [
        {
          "output_type": "stream",
          "text": [
            "Go to this URL in a browser: https://accounts.google.com/o/oauth2/auth?client_id=947318989803-6bn6qk8qdgf4n4g3pfee6491hc0brc4i.apps.googleusercontent.com&redirect_uri=urn%3aietf%3awg%3aoauth%3a2.0%3aoob&response_type=code&scope=email%20https%3a%2f%2fwww.googleapis.com%2fauth%2fdocs.test%20https%3a%2f%2fwww.googleapis.com%2fauth%2fdrive%20https%3a%2f%2fwww.googleapis.com%2fauth%2fdrive.photos.readonly%20https%3a%2f%2fwww.googleapis.com%2fauth%2fpeopleapi.readonly\n",
            "\n",
            "Enter your authorization code:\n",
            "··········\n",
            "Mounted at /content/drive\n"
          ],
          "name": "stdout"
        }
      ]
    },
    {
      "cell_type": "code",
      "metadata": {
        "id": "c6L6unwFtdcb",
        "colab_type": "code",
        "colab": {}
      },
      "source": [
        "#Initial Population Individual function\n",
        "def individual(number_of_genes, upper_limit, lower_limit):\n",
        "    individual=[round(rnd()*(upper_limit-lower_limit)\n",
        "                +lower_limit,1) for x in range(number_of_genes)]\n",
        "    return individual "
      ],
      "execution_count": 0,
      "outputs": []
    },
    {
      "cell_type": "code",
      "metadata": {
        "id": "618DwAm5thx0",
        "colab_type": "code",
        "colab": {}
      },
      "source": [
        "#Population function\n",
        "def population(number_of_individuals,\n",
        "               number_of_genes, upper_limit, lower_limit):\n",
        "    return [individual(number_of_genes, upper_limit, lower_limit) \n",
        "        for x in range(number_of_individuals)]"
      ],
      "execution_count": 0,
      "outputs": []
    },
    {
      "cell_type": "code",
      "metadata": {
        "id": "L8rf7gJTtoJ9",
        "colab_type": "code",
        "colab": {}
      },
      "source": [
        "#Fitness Calculation\n",
        "def fitness_calculation(individual):\n",
        "    fitness_value = sum(individual)\n",
        "    return fitness_value"
      ],
      "execution_count": 0,
      "outputs": []
    },
    {
      "cell_type": "code",
      "metadata": {
        "id": "D7ztIj-Xt0n2",
        "colab_type": "code",
        "colab": {}
      },
      "source": [
        "#Roulette Wheel Selection\n",
        "def roulette(cum_sum, chance):\n",
        "    veriable = list(cum_sum.copy())\n",
        "    veriable.append(chance)\n",
        "    veriable = sorted(veriable)\n",
        "    return veriable.index(chance)"
      ],
      "execution_count": 0,
      "outputs": []
    },
    {
      "cell_type": "code",
      "metadata": {
        "id": "uPE3d9HGt5v4",
        "colab_type": "code",
        "colab": {}
      },
      "source": [
        "def selection(generation, method='Roulette Wheel'):\n",
        "    generation['Normalized Fitness'] = \\\n",
        "        sorted([generation['Fitness'][x]/sum(generation['Fitness']) \n",
        "        for x in range(len(generation['Fitness']))], reverse = True)\n",
        "    generation['Cumulative Sum'] = np.array(\n",
        "        generation['Normalized Fitness']).cumsum()\n",
        "    if method == 'Roulette Wheel':\n",
        "        selected = []\n",
        "        for x in range(len(generation['Individuals'])//2):\n",
        "            selected.append(roulette(generation\n",
        "                ['Cumulative Sum'], rnd()))\n",
        "            while len(set(selected)) != len(selected):\n",
        "                selected[x] = \\\n",
        "                    (roulette(generation['Cumulative Sum'], rnd()))\n",
        "        selected = {'Individuals': \n",
        "            [generation['Individuals'][int(selected[x])]\n",
        "                for x in range(len(generation['Individuals'])//2)]\n",
        "                ,'Fitness': [generation['Fitness'][int(selected[x])]\n",
        "                for x in range(\n",
        "                    len(generation['Individuals'])//2)]}\n",
        "    \n",
        "    return selected"
      ],
      "execution_count": 0,
      "outputs": []
    },
    {
      "cell_type": "code",
      "metadata": {
        "id": "lgMzvQKjuXo2",
        "colab_type": "code",
        "colab": {}
      },
      "source": [
        "#Pairing Fucntion\n",
        "def pairing(elit, selected, method = 'Weighted Random'):\n",
        "    individuals = [elit['Individuals']]+selected['Individuals']\n",
        "    fitness = [elit['Fitness']]+selected['Fitness']\n",
        "    \n",
        "    if method == 'Weighted Random':\n",
        "        normalized_fitness = sorted(\n",
        "            [fitness[x] /sum(fitness) \n",
        "             for x in range(len(individuals)//2)], reverse = True)\n",
        "        cummulitive_sum = np.array(normalized_fitness).cumsum()\n",
        "        parents = []\n",
        "        for x in range(len(individuals)//2):\n",
        "            parents.append(\n",
        "                [individuals[roulette(cummulitive_sum,rnd())],\n",
        "                 individuals[roulette(cummulitive_sum,rnd())]])\n",
        "            while parents[x][0] == parents[x][1]:\n",
        "                parents[x][1] = individuals[\n",
        "                    roulette(cummulitive_sum,rnd())]\n",
        "    return parents"
      ],
      "execution_count": 0,
      "outputs": []
    },
    {
      "cell_type": "code",
      "metadata": {
        "id": "PT5KWvFfug9c",
        "colab_type": "code",
        "colab": {}
      },
      "source": [
        "#Mating Function\n",
        "def mating(parents, method='Single Point'):\n",
        "    if method == 'Single Point':\n",
        "        pivot_point = randint(1, len(parents[0]))\n",
        "        offsprings = [parents[0] \\\n",
        "            [0:pivot_point]+parents[1][pivot_point:]]\n",
        "        offsprings.append(parents[1]\n",
        "            [0:pivot_point]+parents[0][pivot_point:])\n",
        "    \n",
        "    return offsprings"
      ],
      "execution_count": 0,
      "outputs": []
    },
    {
      "cell_type": "code",
      "metadata": {
        "id": "6zxRe8afuoiH",
        "colab_type": "code",
        "colab": {}
      },
      "source": [
        "#Mutations\n",
        "def mutation(individual, upper_limit, lower_limit, muatation_rate=2, \n",
        "    method='Reset', standard_deviation = 0.001):\n",
        "    gene = [randint(0, 7)]\n",
        "    for x in range(muatation_rate-1):\n",
        "        gene.append(randint(0, 7))\n",
        "        while len(set(gene)) < len(gene):\n",
        "            gene[x] = randint(0, 7)\n",
        "    mutated_individual = individual.copy()\n",
        "    if method == 'Gauss':\n",
        "        for x in range(muatation_rate):\n",
        "            mutated_individual[x] = \\\n",
        "            round(individual[x]+gauss(0, standard_deviation), 1)\n",
        "    if method == 'Reset':\n",
        "        for x in range(muatation_rate):\n",
        "            mutated_individual[x] = round(rnd()* \\\n",
        "                (upper_limit-lower_limit)+lower_limit,1)\n",
        "    return mutated_individual"
      ],
      "execution_count": 0,
      "outputs": []
    },
    {
      "cell_type": "code",
      "metadata": {
        "id": "-wZkg4FFusqO",
        "colab_type": "code",
        "colab": {}
      },
      "source": [
        "#Creating next generation\n",
        "def next_generation(gen, upper_limit, lower_limit):\n",
        "    elit = {}\n",
        "    next_gen = {}\n",
        "    elit['Individuals'] = gen['Individuals'].pop(-1)\n",
        "    elit['Fitness'] = gen['Fitness'].pop(-1)\n",
        "    selected = selection(gen)\n",
        "    parents = pairing(elit, selected)\n",
        "    offsprings = [[[mating(parents[x])\n",
        "                    for x in range(len(parents))]\n",
        "                    [y][z] for z in range(2)] \n",
        "                    for y in range(len(parents))]\n",
        "    offsprings1 = [offsprings[x][0]\n",
        "                   for x in range(len(parents))]\n",
        "    offsprings2 = [offsprings[x][1]\n",
        "                   for x in range(len(parents))]\n",
        "    unmutated = selected['Individuals']+offsprings1+offsprings2\n",
        "    mutated = [mutation(unmutated[x], upper_limit, lower_limit) \n",
        "        for x in range(len(gen['Individuals']))]\n",
        "    unsorted_individuals = mutated + [elit['Individuals']]\n",
        "    unsorted_next_gen = \\\n",
        "        [fitness_calculation(mutated[x]) \n",
        "         for x in range(len(mutated))]\n",
        "    unsorted_fitness = [unsorted_next_gen[x]\n",
        "        for x in range(len(gen['Fitness']))] + [elit['Fitness']]\n",
        "    sorted_next_gen = \\\n",
        "        sorted([[unsorted_individuals[x], unsorted_fitness[x]]\n",
        "            for x in range(len(unsorted_individuals))], \n",
        "                key=lambda x: x[1])\n",
        "    next_gen['Individuals'] = [sorted_next_gen[x][0]\n",
        "        for x in range(len(sorted_next_gen))]\n",
        "    next_gen['Fitness'] = [sorted_next_gen[x][1]\n",
        "        for x in range(len(sorted_next_gen))]\n",
        "    gen['Individuals'].append(elit['Individuals'])\n",
        "    gen['Fitness'].append(elit['Fitness'])\n",
        "    return next_gen"
      ],
      "execution_count": 0,
      "outputs": []
    },
    {
      "cell_type": "code",
      "metadata": {
        "id": "cTZ9Gly9uyvE",
        "colab_type": "code",
        "colab": {}
      },
      "source": [
        "#Termination \n",
        "def fitness_similarity_chech(max_fitness, number_of_similarity):\n",
        "    result = False\n",
        "    similarity = 0\n",
        "    for n in range(len(max_fitness)-1):\n",
        "        if max_fitness[n] == max_fitness[n+1]:\n",
        "            similarity += 1\n",
        "        else:\n",
        "            similarity = 0\n",
        "    if similarity == number_of_similarity-1:\n",
        "        result = True\n",
        "    return result"
      ],
      "execution_count": 0,
      "outputs": []
    },
    {
      "cell_type": "code",
      "metadata": {
        "id": "t7INPrC5u7Pl",
        "colab_type": "code",
        "colab": {}
      },
      "source": [
        "# Generations and fitness values will be written to this file\n",
        "Result_file = '/content/drive/My Drive/GA_Results2.txt'\n",
        "# Creating the First Generation\n",
        "def first_generation(pop):\n",
        "    fitness = [fitness_calculation(pop[x]) \n",
        "        for x in range(len(pop))]\n",
        "    sorted_fitness = sorted([[pop[x], fitness[x]]\n",
        "        for x in range(len(pop))], key=lambda x: x[1])\n",
        "    population = [sorted_fitness[x][0] \n",
        "        for x in range(len(sorted_fitness))]\n",
        "    fitness = [sorted_fitness[x][1] \n",
        "        for x in range(len(sorted_fitness))]\n",
        "    return {'Individuals': population, 'Fitness': sorted(fitness)}\n",
        "pop = population(20,8,1,0)\n",
        "gen = []\n",
        "gen.append(first_generation(pop))\n",
        "fitness_avg = np.array([sum(gen[0]['Fitness'])/\n",
        "                        len(gen[0]['Fitness'])])\n",
        "fitness_max = np.array([max(gen[0]['Fitness'])])\n",
        "res = open(Result_file, 'a')\n",
        "res.write('\\n'+str(gen)+'\\n')\n",
        "res.close()\n",
        "finish = False\n",
        "while finish == False:\n",
        "    if len(gen)==10:\n",
        "      finish=True\n",
        "      break\n",
        "    # if max(fitness_max) > 6:\n",
        "    #     break\n",
        "    # if max(fitness_avg) > 5:\n",
        "    #     break\n",
        "    # if fitness_similarity_chech(fitness_max, 50) == True:\n",
        "    #     break\n",
        "    gen.append(next_generation(gen[-1],1,0))\n",
        "    fitness_avg = np.append(fitness_avg, sum(\n",
        "        gen[-1]['Fitness'])/len(gen[-1]['Fitness']))\n",
        "    fitness_max = np.append(fitness_max, max(gen[-1]['Fitness']))\n",
        "    res = open(Result_file, 'a')\n",
        "    res.write('\\n'+str(gen[-1])+'\\n')\n",
        "    res.close()"
      ],
      "execution_count": 0,
      "outputs": []
    }
  ]
}