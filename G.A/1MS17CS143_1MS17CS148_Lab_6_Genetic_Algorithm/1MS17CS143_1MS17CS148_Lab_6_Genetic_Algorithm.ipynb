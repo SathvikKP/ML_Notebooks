{
  "nbformat": 4,
  "nbformat_minor": 0,
  "metadata": {
    "colab": {
      "name": "ML_lab_genetic_algo.ipynb",
      "provenance": [],
      "collapsed_sections": []
    },
    "kernelspec": {
      "name": "python3",
      "display_name": "Python 3"
    }
  },
  "cells": [
    {
      "cell_type": "markdown",
      "metadata": {
        "id": "y6eqjbgiGP0Q",
        "colab_type": "text"
      },
      "source": [
        "## Genetic Algorithms\n",
        "#### Sathvik K P - 1MS17CS143\n",
        "#### Sathvik B   - 1MS17CS148"
      ]
    },
    {
      "cell_type": "markdown",
      "metadata": {
        "id": "LWVVKtWfGi_o",
        "colab_type": "text"
      },
      "source": [
        "#### Importing necessary modules"
      ]
    },
    {
      "cell_type": "code",
      "metadata": {
        "id": "FE1Xn5f6paOV",
        "colab_type": "code",
        "colab": {}
      },
      "source": [
        "import numpy as np\n",
        "from numpy.random import randint\n",
        "from random import random as rnd\n",
        "from random import gauss, randrange"
      ],
      "execution_count": 0,
      "outputs": []
    },
    {
      "cell_type": "markdown",
      "metadata": {
        "id": "I7C6JQ3mGpMl",
        "colab_type": "text"
      },
      "source": [
        "Creating Initial population"
      ]
    },
    {
      "cell_type": "code",
      "metadata": {
        "id": "dvLYP-3bpxsi",
        "colab_type": "code",
        "colab": {}
      },
      "source": [
        "def individual(number_of_genes, upper_limit, lower_limit):\n",
        "    individual=[round(rnd()*(upper_limit-lower_limit)\n",
        "                +lower_limit,1) for x in range(number_of_genes)]\n",
        "    return individual "
      ],
      "execution_count": 0,
      "outputs": []
    },
    {
      "cell_type": "code",
      "metadata": {
        "id": "_0HkharUp3KA",
        "colab_type": "code",
        "colab": {}
      },
      "source": [
        "def population(number_of_individuals,\n",
        "               number_of_genes, upper_limit, lower_limit):\n",
        "    return [individual(number_of_genes, upper_limit, lower_limit) \n",
        "        for x in range(number_of_individuals)]"
      ],
      "execution_count": 0,
      "outputs": []
    },
    {
      "cell_type": "markdown",
      "metadata": {
        "id": "PFKHgVhfICUm",
        "colab_type": "text"
      },
      "source": [
        "Function to calculate fitness"
      ]
    },
    {
      "cell_type": "code",
      "metadata": {
        "id": "pV7jO2QBqIOi",
        "colab_type": "code",
        "colab": {}
      },
      "source": [
        "def fitness_calculation(individual):\n",
        "    fitness_value = sum(individual)\n",
        "    return fitness_value"
      ],
      "execution_count": 0,
      "outputs": []
    },
    {
      "cell_type": "markdown",
      "metadata": {
        "id": "vOtnsoz4IIo1",
        "colab_type": "text"
      },
      "source": [
        "Selection function that uses Fittest Half method"
      ]
    },
    {
      "cell_type": "code",
      "metadata": {
        "id": "t9hl_iK3qVfF",
        "colab_type": "code",
        "colab": {}
      },
      "source": [
        "def selection(generation, method='Fittest Half'):\n",
        "    generation['Normalized Fitness'] = \\\n",
        "        sorted([generation['Fitness'][x]/sum(generation['Fitness']) \n",
        "        for x in range(len(generation['Fitness']))], reverse = True)\n",
        "    generation['Cumulative Sum'] = np.array(\n",
        "        generation['Normalized Fitness']).cumsum()\n",
        "    \n",
        "    if method == 'Fittest Half':\n",
        "        selected_individuals = [generation['Individuals'][-x-1]\n",
        "            for x in range(int(len(generation['Individuals'])//2))]\n",
        "        selected_fitnesses = [generation['Fitness'][-x-1]\n",
        "            for x in range(int(len(generation['Individuals'])//2))]\n",
        "        selected = {'Individuals': selected_individuals,\n",
        "                    'Fitness': selected_fitnesses}\n",
        "    return selected"
      ],
      "execution_count": 0,
      "outputs": []
    },
    {
      "cell_type": "markdown",
      "metadata": {
        "id": "bhVKZml5IPog",
        "colab_type": "text"
      },
      "source": [
        "Pairing function that uses Fittest method"
      ]
    },
    {
      "cell_type": "code",
      "metadata": {
        "id": "iS3FrgXgq7DN",
        "colab_type": "code",
        "colab": {}
      },
      "source": [
        "def pairing(elit, selected, method = 'Fittest'):\n",
        "    individuals = [elit['Individuals']]+selected['Individuals']\n",
        "    fitness = [elit['Fitness']]+selected['Fitness']\n",
        "    if method == 'Fittest':\n",
        "        parents = [[individuals[x],individuals[x+1]] \n",
        "                   for x in range(len(individuals)//2)]\n",
        "    return parents"
      ],
      "execution_count": 0,
      "outputs": []
    },
    {
      "cell_type": "markdown",
      "metadata": {
        "id": "ViF4CRn0IT5u",
        "colab_type": "text"
      },
      "source": [
        "Mating function that uses Single point method"
      ]
    },
    {
      "cell_type": "code",
      "metadata": {
        "id": "kLr3EY2hq8Eb",
        "colab_type": "code",
        "colab": {}
      },
      "source": [
        "def mating(parents, method='Single Point'):\n",
        "    if method == 'Single Point':\n",
        "        pivot_point = randint(1, len(parents[0]))\n",
        "        offsprings = [parents[0] \\\n",
        "            [0:pivot_point]+parents[1][pivot_point:]]\n",
        "        offsprings.append(parents[1]\n",
        "            [0:pivot_point]+parents[0][pivot_point:])\n",
        "    return offsprings"
      ],
      "execution_count": 0,
      "outputs": []
    },
    {
      "cell_type": "markdown",
      "metadata": {
        "id": "kyzjv5FvIa6n",
        "colab_type": "text"
      },
      "source": [
        "Mutation function that uses Reset method"
      ]
    },
    {
      "cell_type": "code",
      "metadata": {
        "id": "ypU67VR6q-zh",
        "colab_type": "code",
        "colab": {}
      },
      "source": [
        "def mutation(individual, upper_limit, lower_limit, muatation_rate=2, \n",
        "    method='Reset', standard_deviation = 0.001):\n",
        "    gene = [randint(0, 7)]\n",
        "    for x in range(muatation_rate-1):\n",
        "        gene.append(randint(0, 7))\n",
        "        while len(set(gene)) < len(gene):\n",
        "            gene[x] = randint(0, 7)\n",
        "    mutated_individual = individual.copy()\n",
        "    if method == 'Gauss':\n",
        "        for x in range(muatation_rate):\n",
        "            mutated_individual[x] = \\\n",
        "            round(individual[x]+gauss(0, standard_deviation), 1)\n",
        "    if method == 'Reset':\n",
        "        for x in range(muatation_rate):\n",
        "            mutated_individual[x] = round(rnd()* \\\n",
        "                (upper_limit-lower_limit)+lower_limit,1)\n",
        "    return mutated_individual"
      ],
      "execution_count": 0,
      "outputs": []
    },
    {
      "cell_type": "markdown",
      "metadata": {
        "id": "YSj5xNb_IqOf",
        "colab_type": "text"
      },
      "source": [
        "Creating the next generation"
      ]
    },
    {
      "cell_type": "code",
      "metadata": {
        "id": "4rrqThmbrBUp",
        "colab_type": "code",
        "colab": {}
      },
      "source": [
        "def next_generation(gen, upper_limit, lower_limit):\n",
        "    elit = {}\n",
        "    next_gen = {}\n",
        "    elit['Individuals'] = gen['Individuals'].pop(-1)\n",
        "    elit['Fitness'] = gen['Fitness'].pop(-1)\n",
        "    selected = selection(gen)\n",
        "    parents = pairing(elit, selected)\n",
        "    offsprings = [[[mating(parents[x])\n",
        "                    for x in range(len(parents))]\n",
        "                    [y][z] for z in range(2)] \n",
        "                    for y in range(len(parents))]\n",
        "    offsprings1 = [offsprings[x][0]\n",
        "                   for x in range(len(parents))]\n",
        "    offsprings2 = [offsprings[x][1]\n",
        "                   for x in range(len(parents))]\n",
        "    unmutated = selected['Individuals']+offsprings1+offsprings2\n",
        "    mutated = [mutation(unmutated[x], upper_limit, lower_limit) \n",
        "        for x in range(len(gen['Individuals']))]\n",
        "    unsorted_individuals = mutated + [elit['Individuals']]\n",
        "    unsorted_next_gen = \\\n",
        "        [fitness_calculation(mutated[x]) \n",
        "         for x in range(len(mutated))]\n",
        "    unsorted_fitness = [unsorted_next_gen[x]\n",
        "        for x in range(len(gen['Fitness']))] + [elit['Fitness']]\n",
        "    sorted_next_gen = \\\n",
        "        sorted([[unsorted_individuals[x], unsorted_fitness[x]]\n",
        "            for x in range(len(unsorted_individuals))], \n",
        "                key=lambda x: x[1])\n",
        "    next_gen['Individuals'] = [sorted_next_gen[x][0]\n",
        "        for x in range(len(sorted_next_gen))]\n",
        "    next_gen['Fitness'] = [sorted_next_gen[x][1]\n",
        "        for x in range(len(sorted_next_gen))]\n",
        "    gen['Individuals'].append(elit['Individuals'])\n",
        "    gen['Fitness'].append(elit['Fitness'])\n",
        "    return next_gen"
      ],
      "execution_count": 0,
      "outputs": []
    },
    {
      "cell_type": "markdown",
      "metadata": {
        "id": "D-KW3w9fIzyV",
        "colab_type": "text"
      },
      "source": [
        "Termination function"
      ]
    },
    {
      "cell_type": "code",
      "metadata": {
        "id": "hiNID3xBrFHx",
        "colab_type": "code",
        "colab": {}
      },
      "source": [
        "def fitness_similarity_chech(max_fitness, number_of_similarity):\n",
        "    result = False\n",
        "    similarity = 0\n",
        "    for n in range(len(max_fitness)-1):\n",
        "        if max_fitness[n] == max_fitness[n+1]:\n",
        "            similarity += 1\n",
        "        else:\n",
        "            similarity = 0\n",
        "    if similarity == number_of_similarity-1:\n",
        "        result = True\n",
        "    return result"
      ],
      "execution_count": 0,
      "outputs": []
    },
    {
      "cell_type": "markdown",
      "metadata": {
        "id": "kiQJR0gHJ1Qe",
        "colab_type": "text"
      },
      "source": [
        "Running the algorithm with 20 individuals in each generation"
      ]
    },
    {
      "cell_type": "code",
      "metadata": {
        "id": "Fx27g3CirIH0",
        "colab_type": "code",
        "colab": {}
      },
      "source": [
        "# Generations and fitness values will be written to this file\n",
        "Result_file = 'GA_Results.txt'\n",
        "# Creating the First Generation\n",
        "def first_generation(pop):\n",
        "    fitness = [fitness_calculation(pop[x]) \n",
        "        for x in range(len(pop))]\n",
        "    sorted_fitness = sorted([[pop[x], fitness[x]]\n",
        "        for x in range(len(pop))], key=lambda x: x[1])\n",
        "    population = [sorted_fitness[x][0] \n",
        "        for x in range(len(sorted_fitness))]\n",
        "    fitness = [sorted_fitness[x][1] \n",
        "        for x in range(len(sorted_fitness))]\n",
        "    return {'Individuals': population, 'Fitness': sorted(fitness)}\n",
        "pop = population(20,8,1,0)\n",
        "gen = []\n",
        "gen.append(first_generation(pop))\n",
        "fitness_avg = np.array([sum(gen[0]['Fitness'])/\n",
        "                        len(gen[0]['Fitness'])])\n",
        "fitness_max = np.array([max(gen[0]['Fitness'])])\n",
        "res = open(Result_file, 'a')\n",
        "res.write('\\n'+str(gen)+'\\n')\n",
        "res.close()\n",
        "finish = 0\n",
        "while finish <=20:\n",
        "    finish+=1\n",
        "    gen.append(next_generation(gen[-1],1,0))\n",
        "    fitness_avg = np.append(fitness_avg, sum(\n",
        "        gen[-1]['Fitness'])/len(gen[-1]['Fitness']))\n",
        "    fitness_max = np.append(fitness_max, max(gen[-1]['Fitness']))\n",
        "    res = open(Result_file, 'a')\n",
        "    res.write('\\n'+str(gen[-1])+'\\n')\n",
        "    res.close()"
      ],
      "execution_count": 0,
      "outputs": []
    },
    {
      "cell_type": "code",
      "metadata": {
        "id": "WZ8Z-1-1rL6h",
        "colab_type": "code",
        "outputId": "f647d996-a485-457e-9125-8d1b875afbb4",
        "colab": {
          "base_uri": "https://localhost:8080/",
          "height": 34
        }
      },
      "source": [
        "sum(fitness_max)"
      ],
      "execution_count": 12,
      "outputs": [
        {
          "output_type": "execute_result",
          "data": {
            "text/plain": [
              "145.50000000000003"
            ]
          },
          "metadata": {
            "tags": []
          },
          "execution_count": 12
        }
      ]
    },
    {
      "cell_type": "code",
      "metadata": {
        "id": "rg3NmaWOtt-l",
        "colab_type": "code",
        "outputId": "9e13d57b-4422-4fe8-d1d9-cdc6c867f3b7",
        "colab": {
          "base_uri": "https://localhost:8080/",
          "height": 34
        }
      },
      "source": [
        "sum(fitness_avg)"
      ],
      "execution_count": 13,
      "outputs": [
        {
          "output_type": "execute_result",
          "data": {
            "text/plain": [
              "127.07499999999999"
            ]
          },
          "metadata": {
            "tags": []
          },
          "execution_count": 13
        }
      ]
    },
    {
      "cell_type": "code",
      "metadata": {
        "id": "-z93yEJjtwPB",
        "colab_type": "code",
        "colab": {}
      },
      "source": [
        ""
      ],
      "execution_count": 0,
      "outputs": []
    }
  ]
}